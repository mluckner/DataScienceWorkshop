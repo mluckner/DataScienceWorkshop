{
 "cells": [
  {
   "cell_type": "markdown",
   "id": "9da6d461",
   "metadata": {},
   "source": [
    "# Data Science dla studentów MBA Digital Transformation\n",
    "## dr inż Marcin Luckner\n",
    "### marcin.luckner@pw.edu.pl"
   ]
  },
  {
   "cell_type": "markdown",
   "id": "dccbc182",
   "metadata": {},
   "source": [
    "## Cel zajęć\n",
    "\n",
    "Celem zajęć jest zapoznanie uczestników z zagadnieniami klasyfikacji, regresji i klasteryzacji wykorzystując rzeczywiste dane. Do analizy danych użyty został język R (http://www.biecek.pl/R/#Pogromcy)."
   ]
  },
  {
   "cell_type": "markdown",
   "id": "394430f3",
   "metadata": {},
   "source": [
    "## Opis danych\n",
    "\n",
    "Dane pochodzą z brytyjskiej agencji autostrad i zawierają rzeczywiste dane dotyczące przemieszczania się pojazdów pomiędzy skrzyżowaniami sieci autostrad.\n",
    "\n",
    "### Struktura danych:\n",
    "\n",
    "* #LinkRef - Unikalny identyfikator połączenia reprezentujący połączenie między skrzyżowaniami w sieci dróg zarządzanej przez Agencję Autostrad.\n",
    "* #LinkDescription - Opis połączenia.\n",
    "* #Date - data podróży.\n",
    "* #TimePeriod - Jeden z 96 15-minutowych przedziałów w ciągu dnia, do których odnoszą się dane (0-95, gdzie 0 oznacza 00:00 do 00:15). \n",
    "* #AverageJT - Średni czas przejazdu przez połączenie w sekundach, dla pojazdów wjeżdżających na połączenie między skrzyżowaniami w danym 15-minutowym okresie czasu.\n",
    "* #AverageSpeed - Średnia prędkość (w km/h) pojazdów wjeżdżających na połączenie między węzłami w danym 15-minutowym przedziale czasu.\n",
    "* #DataQuality - Wskaźnik pokazujący jakość danych o czasie przejazdu dla danego połączenia i okresu czasu. 1 oznacza najwyższą jakość danych, a 5 - najniższą.\n",
    "* #LinkLength -Długość połączenia (km).\n",
    "* #Flow - Średnia z zaobserwowanego przepływu dla danego połączenia, okresu czasu i typu dnia. "
   ]
  },
  {
   "cell_type": "markdown",
   "id": "1c4e95d9",
   "metadata": {},
   "source": [
    "## Wczytanie danych:"
   ]
  },
  {
   "cell_type": "markdown",
   "id": "0ee70733",
   "metadata": {},
   "source": [
    "Wczytanie pliku z danymi z lutego 2015 roku:"
   ]
  },
  {
   "cell_type": "code",
   "execution_count": 7,
   "id": "1e6181ad",
   "metadata": {},
   "outputs": [],
   "source": [
    "path = \"./Data/\"\n",
    "filename = \"FEB15.csv\"\n",
    "probe = read.csv(unzip(paste(path,filename,\".zip\",sep=''),filename))"
   ]
  },
  {
   "cell_type": "markdown",
   "id": "f2c73400",
   "metadata": {},
   "source": [
    "Do przetwarzania danych korzystając z wygodnej notacji strumieniowej użyjemy bibliotek _plyr_ i _dplyr_ (http://genomicsclass.github.io/book/pages/dplyr_tutorial.html):"
   ]
  },
  {
   "cell_type": "code",
   "execution_count": null,
   "id": "99941e5a",
   "metadata": {},
   "outputs": [],
   "source": [
    "  require(plyr)\n",
    "  require(dplyr)"
   ]
  },
  {
   "cell_type": "markdown",
   "id": "0bffa866",
   "metadata": {},
   "source": [
    "Usunięcie z danych zbędnej kolumny zawierającej opis i ograniczenie danych do rekordów o najlepszej jakości:"
   ]
  },
  {
   "cell_type": "code",
   "execution_count": null,
   "id": "7fb59fd6",
   "metadata": {},
   "outputs": [],
   "source": [
    "  probe <- probe %>%\n",
    "   filter(DataQuality == 1) %>%\n",
    "   select(-LinkDescription)"
   ]
  },
  {
   "cell_type": "markdown",
   "id": "c5850e14",
   "metadata": {},
   "source": [
    "Dodanie informacji o godzinie przejazdu:"
   ]
  },
  {
   "cell_type": "code",
   "execution_count": null,
   "id": "eac283a4",
   "metadata": {},
   "outputs": [],
   "source": [
    "  probe$Hour = as.integer(probe$TimePeriod*15/60)"
   ]
  },
  {
   "cell_type": "markdown",
   "id": "52415972",
   "metadata": {},
   "source": [
    "Dodanie informacji o dniu tygodnia przejazdu:"
   ]
  },
  {
   "cell_type": "code",
   "execution_count": null,
   "id": "e5c5a042",
   "metadata": {},
   "outputs": [],
   "source": [
    "  Sys.setlocale(\"LC_TIME\", \"en_US\")\n",
    "  probe$DayOfWeek = weekdays(as.Date(probe$Date))\n",
    "\n",
    "  dow  = c(\"Monday\", \"Tuesday\", \"Wednesday\", \"Thursday\",\"Friday\", \"Saturday\", \"Sunday\")\n",
    "  probe$DayOfWeek = factor(probe$DayOfWeek,levels=dow,ordered=TRUE)"
   ]
  },
  {
   "cell_type": "markdown",
   "id": "afd5540a",
   "metadata": {},
   "source": [
    "Wczytane dane:"
   ]
  },
  {
   "cell_type": "code",
   "execution_count": null,
   "id": "e32d1eba",
   "metadata": {},
   "outputs": [],
   "source": [
    "head(probe)"
   ]
  },
  {
   "cell_type": "markdown",
   "id": "148cabcc",
   "metadata": {},
   "source": [
    "## Eksploracja danych"
   ]
  },
  {
   "cell_type": "markdown",
   "id": "daac6665",
   "metadata": {},
   "source": [
    "Przegląd statystyk dla prędkości przejazu w poszczególnych dniach tygodnia:"
   ]
  },
  {
   "cell_type": "code",
   "execution_count": null,
   "id": "2589b265",
   "metadata": {},
   "outputs": [],
   "source": [
    "statistics <- probe %>% \n",
    "  group_by(DayOfWeek)%>%\n",
    "  summarise(avg_speed = mean(AverageSpeed), \n",
    "            min_speed = min(AverageSpeed),\n",
    "            max_speed = max(AverageSpeed),\n",
    "            total = n())\n",
    "View(statistics)"
   ]
  },
  {
   "cell_type": "markdown",
   "id": "c07a08dd",
   "metadata": {},
   "source": [
    "### Wizualizacje"
   ]
  },
  {
   "cell_type": "markdown",
   "id": "6d25a6d8",
   "metadata": {},
   "source": [
    "W celu zaprezentowania danych użyjemy biblioteki _ggplot2_ (http://tutorials.iq.harvard.edu/R/Rgraphics/Rgraphics.html):"
   ]
  },
  {
   "cell_type": "code",
   "execution_count": null,
   "id": "ef0222bf",
   "metadata": {
    "scrolled": true
   },
   "outputs": [],
   "source": [
    "require(ggplot2)"
   ]
  },
  {
   "cell_type": "markdown",
   "id": "91115d5c",
   "metadata": {},
   "source": [
    "Rozkład średnich prędkości w zależności od dnia tygodnia:"
   ]
  },
  {
   "cell_type": "code",
   "execution_count": null,
   "id": "72cc8794",
   "metadata": {},
   "outputs": [],
   "source": [
    "ggplot(probe, aes(DayOfWeek,AverageSpeed)) + geom_boxplot()+theme(text = element_text(size = 16))"
   ]
  },
  {
   "cell_type": "code",
   "execution_count": null,
   "id": "d8b3ee98",
   "metadata": {
    "scrolled": true
   },
   "outputs": [],
   "source": [
    "ggplot(probe, aes(AverageSpeed, fill=DayOfWeek))+geom_density(alpha=.3)+theme(text = element_text(size = 20))"
   ]
  },
  {
   "cell_type": "markdown",
   "id": "1e7253a4",
   "metadata": {},
   "source": [
    "Rozkład średnich prędkości w zależności od godziny:"
   ]
  },
  {
   "cell_type": "code",
   "execution_count": null,
   "id": "767b282f",
   "metadata": {
    "scrolled": false
   },
   "outputs": [],
   "source": [
    "ggplot(probe, aes(Hour,AverageSpeed))+ geom_boxplot(aes(group = cut_width(Hour, 1)))+theme(text = element_text(size = 20))"
   ]
  },
  {
   "cell_type": "markdown",
   "id": "9833cf55",
   "metadata": {},
   "source": [
    "## Klasteryzacja\n",
    "\n",
    "Klasteryzacja dokonuje automatycznego podziału danych na klastry, czyli grupy podobnych do siebie rekordów."
   ]
  },
  {
   "cell_type": "markdown",
   "id": "16ea611c",
   "metadata": {},
   "source": [
    "Do klasteryzacji potrzebujemy narzędzi z biblioteki _e1071_:"
   ]
  },
  {
   "cell_type": "code",
   "execution_count": null,
   "id": "60e15bf6",
   "metadata": {
    "scrolled": true
   },
   "outputs": [],
   "source": [
    "require('e1071')"
   ]
  },
  {
   "cell_type": "markdown",
   "id": "0e40ea0f",
   "metadata": {},
   "source": [
    "Chcemy podzielić rekordy względem średniej prędkości _AverageSpeed_ na trzy grupy roboczo nazwane _low_, _medium_, i _high_. Ponieważ użyty mechanizm klasteryzacji, algorytm k-średnich (https://pl.wikipedia.org/wiki/Algorytm_centroidów), jest algorytmem iteracyjnym to określamy też liczbę iteracji."
   ]
  },
  {
   "cell_type": "code",
   "execution_count": null,
   "id": "137c950a",
   "metadata": {},
   "outputs": [],
   "source": [
    "speeds = c('low','medium','high')\n",
    "iterations <-10\n",
    "columnName <-\"AverageSpeed\""
   ]
  },
  {
   "cell_type": "markdown",
   "id": "7967ca74",
   "metadata": {},
   "source": [
    "Algorytm k-średnich zwraca przypisanie każdej z obserwacji do klastra:"
   ]
  },
  {
   "cell_type": "code",
   "execution_count": null,
   "id": "43a8d61e",
   "metadata": {},
   "outputs": [],
   "source": [
    "k<-length(speeds)\n",
    "clusters <- kmeans(probe[columnName], k, iterations);\n",
    "classes <- clusters$cluster"
   ]
  },
  {
   "cell_type": "markdown",
   "id": "1a2e604b",
   "metadata": {},
   "source": [
    "Następnie porządkujemy uzyskane wyniki tak, aby robocza nazwa klastra odpowiadała zapisanym w nim wartościom:"
   ]
  },
  {
   "cell_type": "code",
   "execution_count": null,
   "id": "66b291d9",
   "metadata": {},
   "outputs": [],
   "source": [
    "ord <-sort(clusters$centers, index.return=TRUE)\n",
    "\n",
    "for(i in 1:k){\n",
    "  classes[classes==i]  = speeds[ord$ix ==i]\n",
    "}\n",
    "\n",
    "probe$cluster = factor(classes,levels=speeds,ordered=TRUE)"
   ]
  },
  {
   "cell_type": "markdown",
   "id": "a8a1fdce",
   "metadata": {},
   "source": [
    "Wykreślmy rozkład danych w stworzonych klastrach:"
   ]
  },
  {
   "cell_type": "code",
   "execution_count": null,
   "id": "eeecdc4c",
   "metadata": {},
   "outputs": [],
   "source": [
    "ggplot(probe, aes(AverageSpeed,fill=cluster))+geom_density(alpha=.3)+theme(text = element_text(size = 20))"
   ]
  },
  {
   "cell_type": "code",
   "execution_count": null,
   "id": "3b3941f7",
   "metadata": {},
   "outputs": [],
   "source": [
    "ggplot(probe, aes(cluster,AverageSpeed))+ geom_boxplot()+theme(text = element_text(size = 20))"
   ]
  },
  {
   "cell_type": "markdown",
   "id": "a35b341b",
   "metadata": {},
   "source": [
    "Wyliczmy ich statystyki:"
   ]
  },
  {
   "cell_type": "code",
   "execution_count": null,
   "id": "dc2e2cc5",
   "metadata": {},
   "outputs": [],
   "source": [
    "statistics <- probe %>% \n",
    "  group_by(cluster)%>%\n",
    "  summarise(avg_speed = mean(AverageSpeed), \n",
    "            min_speed = min(AverageSpeed),\n",
    "            max_speed = max(AverageSpeed),\n",
    "            total = n())\n",
    "View(statistics)"
   ]
  },
  {
   "cell_type": "markdown",
   "id": "5657d7ac",
   "metadata": {},
   "source": [
    "Klaster _low_ zawiera znacząco mniej obserwacji niż pozostałe klastry. Może to wpłynąć na dalszą analizę danych."
   ]
  },
  {
   "cell_type": "markdown",
   "id": "2d31cfda",
   "metadata": {},
   "source": [
    "## Klasyfikacja\n",
    "\n",
    "Klasyfikacja polega na przypisaniu obserwacji do jednej ze zdefiniowanych klas. Spróbujemy automatycznie przypisać przejazdy do jednego z trzech stworzonych klastrów."
   ]
  },
  {
   "cell_type": "markdown",
   "id": "5e068a09",
   "metadata": {},
   "source": [
    "### Drzewo decyzyjne\n",
    "Do klasyfikacji użyjemy drzew decyzyjnych. Są to łatwe w interpretacji klasyfikatory, które zaimplementowano w bibliotece _rpart_, a ich wizualizację w bibliotece _rpart.plot_:"
   ]
  },
  {
   "cell_type": "code",
   "execution_count": null,
   "id": "b4e14580",
   "metadata": {},
   "outputs": [],
   "source": [
    "require(rpart)\n",
    "require(rpart.plot)"
   ]
  },
  {
   "cell_type": "markdown",
   "id": "394c48a2",
   "metadata": {},
   "source": [
    "Spróbujemy określić do której kategorii przypisany zostanie przejazd na podstawie dnia tygodnia _DayOfWeek_, godziny _Hour_, i zatłoczenia _Flow_. Ponieważ zadanie to nie będzie łatwe, ograniczymy się do przewidywań dla pojedynczego odcinka autostrady _Link_."
   ]
  },
  {
   "cell_type": "code",
   "execution_count": null,
   "id": "da939419",
   "metadata": {},
   "outputs": [],
   "source": [
    "dependentVariable <-\"cluster\"\n",
    "independentVariables <- c('DayOfWeek','Flow','Hour');\n",
    "Link = 'AL2085'\n",
    "part_probe<-probe %>%\n",
    "  filter(LinkRef==Link)"
   ]
  },
  {
   "cell_type": "markdown",
   "id": "a3ef3c49",
   "metadata": {},
   "source": [
    "Tworzymy formułę objaśniającą zmienną zależną od kombinacji zmiennych niezależnych:"
   ]
  },
  {
   "cell_type": "code",
   "execution_count": null,
   "id": "6ebf6860",
   "metadata": {},
   "outputs": [],
   "source": [
    "form<- paste(independentVariables, collapse = \"+\");\n",
    "form <- as.formula(paste(dependentVariable, form, sep = \" ~ \"))\n",
    "print(form)"
   ]
  },
  {
   "cell_type": "markdown",
   "id": "42261555",
   "metadata": {},
   "source": [
    "Tworzymy drzewo decyzyjne:"
   ]
  },
  {
   "cell_type": "code",
   "execution_count": null,
   "id": "4420f22c",
   "metadata": {},
   "outputs": [],
   "source": [
    " probe.tree <- rpart(form, method='class', data=part_probe)"
   ]
  },
  {
   "cell_type": "markdown",
   "id": "328c78db",
   "metadata": {},
   "source": [
    "Stworzone drzewo prezentuje proste reguły pozwalające na określenie czy przejazd o danej godzinie będzie szybki (w zależności od zatłoczenia odcinka):"
   ]
  },
  {
   "cell_type": "code",
   "execution_count": null,
   "id": "63aa0fcb",
   "metadata": {},
   "outputs": [],
   "source": [
    "rpart.plot(probe.tree)"
   ]
  },
  {
   "cell_type": "markdown",
   "id": "2b0b09de",
   "metadata": {},
   "source": [
    "Możemy zobaczyć jak wygląda proces uczenia drzewa w zależności od jego rozłożystości:"
   ]
  },
  {
   "cell_type": "code",
   "execution_count": null,
   "id": "add717cf",
   "metadata": {
    "scrolled": true
   },
   "outputs": [],
   "source": [
    "printcp(probe.tree)"
   ]
  },
  {
   "cell_type": "markdown",
   "id": "61c7dfce",
   "metadata": {},
   "source": [
    "Biblioteka _caret_ zawiera mechanizmy oceny klasyfikatorów:"
   ]
  },
  {
   "cell_type": "code",
   "execution_count": null,
   "id": "4af4deeb",
   "metadata": {},
   "outputs": [],
   "source": [
    "require(caret)"
   ]
  },
  {
   "cell_type": "markdown",
   "id": "0e94d756",
   "metadata": {},
   "source": [
    "Możemy teraz ocenić jakość predykcji dokonantch przez drzewo, wyliczając macierz pomyłek i pochodne dla niej miary jakości (https://en.wikipedia.org/wiki/Sensitivity_and_specificity):"
   ]
  },
  {
   "cell_type": "code",
   "execution_count": null,
   "id": "c8efaea1",
   "metadata": {},
   "outputs": [],
   "source": [
    "probe.tree.predictions <- predict(probe.tree ,part_probe, type = \"class\")\n",
    "cm <- confusionMatrix(probe.tree.predictions, part_probe$cluster)\n",
    "print(cm)"
   ]
  },
  {
   "cell_type": "markdown",
   "id": "ccbd118f",
   "metadata": {},
   "source": [
    "Nasze drzewo poprawnie zakwalifikowało 88 procent obserwacji, ale nie potrafi poprawnie rozpoznać obiektów z klasy _low_."
   ]
  },
  {
   "cell_type": "markdown",
   "id": "8979ec45",
   "metadata": {},
   "source": [
    "Wyświetlmy macierz pomyłek klasyfikacji w postaci graficznej:"
   ]
  },
  {
   "cell_type": "code",
   "execution_count": null,
   "id": "ae27568f",
   "metadata": {},
   "outputs": [],
   "source": [
    "plt <- as.data.frame(cm$table)\n",
    "plt$Prediction <- factor(plt$Prediction, levels=rev(levels(plt$Prediction)))\n",
    "\n",
    "ggplot(plt, aes(Prediction,Reference, fill= Freq)) +\n",
    "        geom_tile() + geom_text(aes(label=Freq),  size=10) +\n",
    "        scale_fill_gradient(low=\"white\", high=\"#009194\") +\n",
    "        labs(x = \"Reference\",y = \"Prediction\")+\n",
    "        theme(text = element_text(size = 30), legend.position=\"none\")       \n"
   ]
  },
  {
   "cell_type": "markdown",
   "id": "1bae405e",
   "metadata": {},
   "source": [
    "### Testowanie drzewa\n",
    "\n",
    "Drzewo było uczone i testowane na tych samych danych, pochodzących z lutego 2015. Sprawdzmy, czy działa równie dobrze na danych z innego okresu."
   ]
  },
  {
   "cell_type": "markdown",
   "id": "b28c5889",
   "metadata": {},
   "source": [
    "Wczytamy dane z marca 2015 roku i przypiszmy je do klastrów zgodnie z wcześniej ustalonymi regułami:"
   ]
  },
  {
   "cell_type": "code",
   "execution_count": 8,
   "id": "b2f94e2b",
   "metadata": {},
   "outputs": [
    {
     "ename": "ERROR",
     "evalue": "Error in probe2 %>% filter(DataQuality == 1) %>% filter(!is.na(Flow)) %>% : nie udało się znaleźć funkcji '%>%'\n",
     "output_type": "error",
     "traceback": [
      "Error in probe2 %>% filter(DataQuality == 1) %>% filter(!is.na(Flow)) %>% : nie udało się znaleźć funkcji '%>%'\nTraceback:\n"
     ]
    }
   ],
   "source": [
    "path = \"./Data/\"\n",
    "filename = \"MAR15.csv\"\n",
    "probe2 = read.csv(unzip(paste(path,filename,\".zip\",sep=''),filename))\n",
    "probe2 <- probe2 %>%\n",
    "   filter(DataQuality == 1) %>%\n",
    "   filter(!is.na(Flow))%>%\n",
    "   select(-LinkDescription)\n",
    "probe2$DayOfWeek = weekdays(as.Date(probe2$Date))\n",
    "probe2$DayOfWeek = factor(probe2$DayOfWeek,levels=dow,ordered=TRUE)\n",
    "probe2$Hour = as.integer(probe2$TimePeriod*15/60)\n",
    "\n",
    "#Labbeling of the testing set using rules from the first probe clusterisation\n",
    "for(i in 1:length(speeds)){\n",
    " if(i==1){\n",
    "   probe2$cluster[probe2$AverageSpeed<=statistics$max_speed[i]] = speeds[i]\n",
    " }else\n",
    "    if(i==length(speeds)){\n",
    "    probe2$cluster[ probe2$AverageSpeed>=statistics$min_speed[i]] = speeds[i]\n",
    "    }else{\n",
    "    probe2$cluster[probe2$AverageSpeed<=statistics$max_speed[i] & probe2$AverageSpeed>=statistics$min_speed[i]] = speeds[i]\n",
    "  }\n",
    "}\n",
    "probe2$cluster = factor(probe2$cluster,levels=speeds,ordered=TRUE)\n"
   ]
  },
  {
   "cell_type": "code",
   "execution_count": null,
   "id": "b96c9bb3",
   "metadata": {
    "scrolled": true
   },
   "outputs": [],
   "source": [
    "head(probe2)"
   ]
  },
  {
   "cell_type": "markdown",
   "id": "5488e4a9",
   "metadata": {},
   "source": [
    "Sprawdzmy, jak wcześniej utworzone drzewo sprawdzi się na nowych danych:"
   ]
  },
  {
   "cell_type": "code",
   "execution_count": null,
   "id": "38f8928e",
   "metadata": {},
   "outputs": [],
   "source": [
    "dependentVariable <-\"cluster\"\n",
    "independentVariables <- c('DayOfWeek','Flow','Hour')\n",
    "\n",
    "part_probe2<-probe2 %>%\n",
    "  filter(LinkRef==Link)\n",
    "probe2.tree.predictions <- predict(probe.tree ,part_probe2, type = \"class\")\n",
    "confusionMatrix(probe2.tree.predictions, part_probe2$cluster)"
   ]
  },
  {
   "cell_type": "markdown",
   "id": "dc7134db",
   "metadata": {},
   "source": [
    "Drzewo uzyskało skuteczność 85 procent, niewiele mniejszą niż dla wcześniejszych danych. Oznacza to, że posiada ono zdolność generalizacji, czyli poprawnego działania dla nowych danych."
   ]
  },
  {
   "cell_type": "markdown",
   "id": "e78eca4b",
   "metadata": {},
   "source": [
    "## Regresja\n",
    "\n",
    "Zadanie regresji polega na przypisaniu do obserwacji pewnej zmiennej ciągłej."
   ]
  },
  {
   "cell_type": "markdown",
   "id": "83cd78cd",
   "metadata": {},
   "source": [
    "### Las losowy\n",
    "\n",
    "Las losowy jest zbiorem drzew, które w procesie głosowania wybierają wspólne rozwiązanie danego problemu. Decyzje lasu nie są tak łatwo interpretowalne jak decyzje pojedynczego drzewa, ale jego możliwości są znacznie większe. Las losowy jest zaimplementowany w bibliotece _randomForest_."
   ]
  },
  {
   "cell_type": "code",
   "execution_count": null,
   "id": "85dac0f4",
   "metadata": {},
   "outputs": [],
   "source": [
    " require(randomForest)"
   ]
  },
  {
   "cell_type": "markdown",
   "id": "620461f2",
   "metadata": {},
   "source": [
    "Chcemy estymować średnią prędkość _AverageSpeed_ na podstawie takich czynników jak dzień tygodnia _DayOfWeek_, natężenie ruchu _Flow_, godzina przejazdu _Hour_, i długość odcinka _LinkLength_."
   ]
  },
  {
   "cell_type": "code",
   "execution_count": null,
   "id": "856c838b",
   "metadata": {},
   "outputs": [],
   "source": [
    "dependentVariable <-\"AverageSpeed\"\n",
    "independentVariables <- c('DayOfWeek','Flow','Hour','LinkLength')\n",
    "\n",
    "form<- paste(independentVariables, collapse = \"+\");\n",
    "form <- as.formula(paste(dependentVariable, form, sep = \" ~ \"))\n",
    "print(form)"
   ]
  },
  {
   "cell_type": "markdown",
   "id": "07c3a547",
   "metadata": {},
   "source": [
    "Zbudujemy las złożony z 30 drzew losowych:"
   ]
  },
  {
   "cell_type": "code",
   "execution_count": null,
   "id": "d8beea7a",
   "metadata": {},
   "outputs": [],
   "source": [
    "nTree = 50\n",
    "probe.rf <- randomForest(form,probe,ntree=nTree,importance=TRUE)\n"
   ]
  },
  {
   "cell_type": "code",
   "execution_count": null,
   "id": "50dc9553",
   "metadata": {},
   "outputs": [],
   "source": [
    "probe.rf.predictions <- predict(probe.rf ,probe)\n",
    "size = 500\n",
    "df <- data.frame(\n",
    "   y = c(probe$AverageSpeed[1:size], probe.rf.predictions[1:size]),\n",
    "   x = c(1:size,1:size),\n",
    "   probe = c(rep('speed', size), rep('estimation', size)) \n",
    " )"
   ]
  },
  {
   "cell_type": "code",
   "execution_count": null,
   "id": "c96018c1",
   "metadata": {},
   "outputs": [],
   "source": [
    "ggplot(df, aes(x, y, colour = probe, linetype=probe))+ geom_line(size=2)+theme(text = element_text(size = 30), legend.position=\"bottom\")\n",
    "ggsave(\"regression.pdf\")"
   ]
  },
  {
   "cell_type": "markdown",
   "id": "ba55444c",
   "metadata": {},
   "source": [
    "Wyliczmy średni błąd dla danych uczących:"
   ]
  },
  {
   "cell_type": "code",
   "execution_count": null,
   "id": "64e751e6",
   "metadata": {},
   "outputs": [],
   "source": [
    "probe.rf.predictions <- predict(probe.rf ,probe)\n",
    "probe.rf.errors <- abs(probe.rf.predictions-probe$AverageSpeed)\n",
    "print(mean(probe.rf.errors))"
   ]
  },
  {
   "cell_type": "markdown",
   "id": "3ef75057",
   "metadata": {},
   "source": [
    "Wyliczmy średni błąd dla danych testowych:"
   ]
  },
  {
   "cell_type": "code",
   "execution_count": null,
   "id": "4befa4f9",
   "metadata": {},
   "outputs": [],
   "source": [
    "probe2.rf.predictions <- predict(probe.rf ,probe2)\n",
    "probe2.rf.errors <- abs(probe2.rf.predictions-probe2$AverageSpeed)\n",
    "print(mean(probe2.rf.errors))"
   ]
  },
  {
   "cell_type": "markdown",
   "id": "a5ea0cb3",
   "metadata": {},
   "source": [
    "W celu porównania błędów dla obydwu zbiorów zestawimy je w jedną tabelę:"
   ]
  },
  {
   "cell_type": "code",
   "execution_count": null,
   "id": "78436a2a",
   "metadata": {},
   "outputs": [],
   "source": [
    "df <- data.frame(\n",
    "   x = c(probe.rf.errors, probe2.rf.errors),\n",
    "   probe = c(rep('learning', length(probe.rf.errors)), rep('testing', length(probe2.rf.errors))) \n",
    " )"
   ]
  },
  {
   "cell_type": "markdown",
   "id": "04cf07a1",
   "metadata": {},
   "source": [
    "Porównamy rozkład błędów stosując skumulowaną funkcję dystrybucji:"
   ]
  },
  {
   "cell_type": "code",
   "execution_count": null,
   "id": "3ba60b49",
   "metadata": {
    "scrolled": false
   },
   "outputs": [],
   "source": [
    " ggplot(df, aes(x, colour = probe)) + stat_ecdf(size=2)+theme(text = element_text(size = 20))"
   ]
  },
  {
   "cell_type": "code",
   "execution_count": null,
   "id": "96c9ce3d",
   "metadata": {},
   "outputs": [],
   "source": [
    "median(probe2.rf.errors)"
   ]
  },
  {
   "cell_type": "code",
   "execution_count": null,
   "id": "e5c01082",
   "metadata": {},
   "outputs": [],
   "source": [
    "median(probe.rf.errors)"
   ]
  },
  {
   "cell_type": "markdown",
   "id": "8df00f6f",
   "metadata": {},
   "source": [
    "Nie da się łatwo analizować reguł tworzonych przez las losowy, ale możemy analizować, które cechy były najważniejsze w kontekście minimalizacji błędu."
   ]
  },
  {
   "cell_type": "code",
   "execution_count": null,
   "id": "5e0e2e5b",
   "metadata": {},
   "outputs": [],
   "source": [
    "importance(probe.rf)"
   ]
  },
  {
   "cell_type": "code",
   "execution_count": null,
   "id": "0dc5e80a",
   "metadata": {},
   "outputs": [],
   "source": []
  }
 ],
 "metadata": {
  "kernelspec": {
   "display_name": "R",
   "language": "R",
   "name": "ir"
  },
  "language_info": {
   "codemirror_mode": "r",
   "file_extension": ".r",
   "mimetype": "text/x-r-source",
   "name": "R",
   "pygments_lexer": "r",
   "version": "4.2.0"
  }
 },
 "nbformat": 4,
 "nbformat_minor": 5
}
